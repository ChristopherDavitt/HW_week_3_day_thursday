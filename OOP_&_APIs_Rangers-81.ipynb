{
 "cells": [
  {
   "cell_type": "markdown",
   "metadata": {},
   "source": [
    "# Object Oriented Programming 2 - examples and APIs\n"
   ]
  },
  {
   "cell_type": "markdown",
   "metadata": {},
   "source": [
    "## Tasks Today:\n",
    "\n",
    "   \n",
    "\n",
    "1) <b>Shopping Cart Example</b> <br>\n",
    "2) <b>Requests and the pokemon API </b> <br>\n",
    " "
   ]
  },
  {
   "cell_type": "markdown",
   "metadata": {},
   "source": [
    "# Goal \n",
    "### build a shopping cart program with prices and quantities using objects and a dictionary"
   ]
  },
  {
   "cell_type": "code",
   "execution_count": null,
   "metadata": {},
   "outputs": [],
   "source": [
    "# Create a class called cart that retains items and has methods to add, remove, and show\n",
    "\n",
    "# this class is just responsible for the cart object and the actions of the cart object\n",
    "class Cart():\n",
    "    def __init__(self):\n",
    "        self.items = {}\n",
    "        \n",
    "    def add(self):\n",
    "        new_item = input(\"what item would you like to add to the list? \")\n",
    "        quantity = int(input(f\"How many {new_item}s do you want? \"))\n",
    "        if new_item not in self.items.keys():\n",
    "            self.items[new_item] = quantity\n",
    "        else:\n",
    "            self.items[new_item] += quantity\n",
    "        print(f\"{quantity} {new_item}s are in the cart\")\n",
    "    def remove(self):\n",
    "        discard = input(\"What would you like to discard? \")\n",
    "        quantity = int(input(\"How many would you like to remove from the cart? \"))\n",
    "        try:\n",
    "            self.items[discard] -= quantity\n",
    "            if self.items[discard] <= 0:\n",
    "                del self.items[discard]\n",
    "            print(f\"{quantity} {discard}s have been removed.\")\n",
    "        except:\n",
    "            print(f'{discard} was not in your cart.')\n",
    "    \n",
    "    def show(self):\n",
    "        print(f\"Your cart contains the listed items\")\n",
    "        for item, quantity in self.items.items():\n",
    "            print(f\"{item} | {quantity}\")\n",
    "        \n",
    "    def checkout(self):\n",
    "        if not self.items:\n",
    "            print(\"buy things... consume things\")\n",
    "        else:\n",
    "            print('Thanks for shopping!')\n",
    "            self.show()\n",
    "# control the logic and flow/operation of our overall program\n",
    "class Main:\n",
    "    def showInstructions():\n",
    "        print(\"\"\"\n",
    "Welcome to the Shopping Program.\n",
    "Options:\n",
    "[1] Show Current Cart\n",
    "[2] Add Item\n",
    "[3] Remove Item\n",
    "[4] Quit\n",
    "        \"\"\")\n",
    "    \n",
    "    # driver code - responsible for actually calling all of my functions\n",
    "    def run():\n",
    "        Main.showInstructions()\n",
    "        my_cart = Cart()\n",
    "        while True:\n",
    "            choice = int(input(\"| \"))\n",
    "            if choice == 1:\n",
    "                if my_cart.items() == {}:\n",
    "                    print(\"no items in cart\")\n",
    "                else:\n",
    "                    my_cart.show()\n",
    "            elif choice == 2:\n",
    "                my_cart.add()\n",
    "            elif choice == 3:\n",
    "                if my_cart.items == {}:\n",
    "                    print(\"no items in cart\")\n",
    "                else:\n",
    "                    my_cart.remove()\n",
    "            elif choice == 4:\n",
    "                my_cart.checkout()\n",
    "                break\n",
    "            else:\n",
    "                print(\"not a valid choice, pick from the list above\")\n",
    "Main.run()"
   ]
  },
  {
   "cell_type": "markdown",
   "metadata": {},
   "source": [
    "# working with APIs"
   ]
  },
  {
   "cell_type": "markdown",
   "metadata": {},
   "source": [
    "<p> What exactly is an API? <br> <br>\n",
    "API is the acronym for Application Programming Interface, which is a software intermediary that allows two applications to talk to each other. Each time you use an app like Facebook, send an instant message, or check the weather on your phone, you're using an API. </p>"
   ]
  },
  {
   "cell_type": "markdown",
   "metadata": {},
   "source": [
    "### The Poke API  allows you to retreive a pokemon's information from PokeAPI https://pokeapi.co/\n",
    "\n"
   ]
  },
  {
   "cell_type": "code",
   "execution_count": null,
   "metadata": {},
   "outputs": [],
   "source": [
    "# making an API call\n",
    "import requests\n",
    "\n",
    "r = requests.get(f'https://pokeapi.co/api/v2/pokemon/swampert')\n",
    "if r.status_code == 200:\n",
    "    data = r.json()\n",
    "    \n",
    "print(data.keys())\n"
   ]
  },
  {
   "cell_type": "markdown",
   "metadata": {},
   "source": [
    "### Display a Pokemon's name, abilities, types, and weight"
   ]
  },
  {
   "cell_type": "code",
   "execution_count": null,
   "metadata": {},
   "outputs": [],
   "source": [
    "# name, abilities, types, and weight\n",
    "name = data['name']\n",
    "\n",
    "print(name)"
   ]
  },
  {
   "cell_type": "code",
   "execution_count": null,
   "metadata": {},
   "outputs": [],
   "source": [
    "abilities = [pokemon['ability']['name'] for pokemon in data['abilities']]\n",
    "\n",
    "print(abilities)"
   ]
  },
  {
   "cell_type": "code",
   "execution_count": null,
   "metadata": {},
   "outputs": [],
   "source": [
    "types = [pokemon['type']['name'] for pokemon in data['types']]\n",
    "\n",
    "print(types)"
   ]
  },
  {
   "cell_type": "code",
   "execution_count": null,
   "metadata": {},
   "outputs": [],
   "source": [
    "weight = data['weight']\n",
    "\n",
    "print(weight)"
   ]
  },
  {
   "cell_type": "code",
   "execution_count": null,
   "metadata": {},
   "outputs": [],
   "source": [
    "# Create a structure for a single pokemon\n",
    "swampert = {\n",
    "    \n",
    "'name': name,\n",
    "'abilities': abilities,\n",
    "'weight': weight,\n",
    "'types': types\n",
    "}\n",
    "swampert"
   ]
  },
  {
   "cell_type": "code",
   "execution_count": null,
   "metadata": {},
   "outputs": [],
   "source": []
  },
  {
   "cell_type": "markdown",
   "metadata": {},
   "source": [
    "#### Create a function to Pull in your own Pokemon's data "
   ]
  },
  {
   "cell_type": "code",
   "execution_count": null,
   "metadata": {},
   "outputs": [],
   "source": [
    "import requests as r\n",
    "\n",
    "the_team = ['electabuzz', 'haunter','tyranitar','magikarp','marowak','dratini']\n",
    "\n",
    "def poke_api_call(pokemon):\n",
    "    req = r.get(f'https://pokeapi.co/api/v2/pokemon/{pokemon}')\n",
    "    if req.status_code == 200:\n",
    "        data = req.json()\n",
    "    \n",
    "        name = data['name']\n",
    "        types = [pokemon['type']['name'] for pokemon in data['types']]\n",
    "        abilities = [pokemon['ability']['name'] for pokemon in data['abilities']]\n",
    "        weight = data['weight']\n",
    "    \n",
    "        poke = {\n",
    "            \"name\": name,\n",
    "            'abilities': abilities,\n",
    "            'weight': weight,\n",
    "            'types' : types\n",
    "        }\n",
    "        return poke"
   ]
  },
  {
   "cell_type": "markdown",
   "metadata": {},
   "source": [
    "#### Use your function to create a dictionary of your Johto League 6  (favorite 6 pokemon)"
   ]
  },
  {
   "cell_type": "code",
   "execution_count": null,
   "metadata": {},
   "outputs": [],
   "source": [
    "# Place all 6 of your pokemon on the object below, each pokemon should have at least as much info as Pikachu did.\n",
    "\n",
    "my_six_pokemon = {}\n",
    "for member in the_team:\n",
    "    poke_stats = poke_api_call(member)\n",
    "    my_six_pokemon[member.title()] = poke_stats\n",
    "\n",
    "my_six_pokemon"
   ]
  },
  {
   "cell_type": "markdown",
   "metadata": {},
   "source": [
    "## Lets create a class called 'Pokemon' and create our pokemon as instances"
   ]
  },
  {
   "cell_type": "code",
   "execution_count": null,
   "metadata": {},
   "outputs": [],
   "source": [
    "import requests as r\n",
    "\n",
    "class Move_Tutor:\n",
    "    \n",
    "    def __init__(self):\n",
    "        self.moves = []\n",
    "        \n",
    "    def addMove(self):\n",
    "        i = 0\n",
    "        while True:\n",
    "            if i == 4:\n",
    "                break\n",
    "            else:\n",
    "                print(f\"\"\"\n",
    "    Add Moves to {name.title()}!\n",
    "    Options:\n",
    "    [1] Add move\n",
    "    [2] Finish adding moves\n",
    "    [3] Show moves\n",
    "            \"\"\")\n",
    "               \n",
    "                try:\n",
    "                    request = int(input(\": \"))\n",
    "                except:\n",
    "                    print(\"not a valid repsonse\")\n",
    "                    continue\n",
    "                if request == 1:\n",
    "                    req = r.get(f'https://pokeapi.co/api/v2/pokemon/{self.name}')\n",
    "                    if req.status_code == 200:\n",
    "                        data = req.json()\n",
    "                        new_move = input(f\"What move would you like to teach {name}? | \")\n",
    "                        for poke in data['moves']:\n",
    "                            if new_move == poke['move']['name']:\n",
    "                                added_move = new_move\n",
    "                                self.moves.append(added_move)\n",
    "                                i += 1\n",
    "                                print(f\"{name.title()} learned {added_move} \")\n",
    "                                added_move = TM(new_move)\n",
    "                                added_move.move_api_call()\n",
    "                                continue\n",
    "                                \n",
    "                elif request == 2:\n",
    "                    break\n",
    "                elif request == 3:\n",
    "                    print(self.moves)\n",
    "                else:\n",
    "                    print(\"not a valid move\")\n",
    "\n",
    "class TM:\n",
    "    def __init__(self, move_name):\n",
    "        self.move_power = None\n",
    "        self.move_accuracy = None\n",
    "        self.move_name = move_name\n",
    "        self.move_type = []\n",
    "    \n",
    "    def move_api_call(self):\n",
    "        move_req = r.get(f\"https://pokeapi.co/api/v2/move/{self.move_name}\")\n",
    "        if move_req.status_code == 200:\n",
    "            move_data = move_req.json()\n",
    "        else:\n",
    "            print(f\"Ran into an issue {move_req.status_code}\")\n",
    "                                \n",
    "        self.move_type = move_data['type']\n",
    "        self.move_accuracy = move_data['accuracy']\n",
    "        self.move_power = move_data['power']\n",
    "        print(f'{self.move_name}\\'s data has been updated! ')                        \n",
    "        \n",
    "class Pokemon(Move_Tutor):\n",
    "    \n",
    "    def __init__(self, name):\n",
    "        Move_Tutor.__init__(self)\n",
    "        self.name = name\n",
    "        self.types = []\n",
    "        self.abilities = []\n",
    "        \n",
    "    def poke_api_call(self):\n",
    "        req = r.get(f'https://pokeapi.co/api/v2/pokemon/{self.name}')\n",
    "        if req.status_code == 200:\n",
    "            data = req.json()\n",
    "        else:\n",
    "            print(f\"Ran into an issue {req.status_code}\")\n",
    "                                \n",
    "        self.types = [pokemon['type']['name'] for pokemon in data['types']]\n",
    "        self.abilities = [poke['ability']['name'] for poke in data['abilities']]\n",
    "        self.weight = data['weight']\n",
    "        print(f'{self.name}\\'s data has been updated! ')\n",
    "        \n",
    "\n"
   ]
  },
  {
   "cell_type": "code",
   "execution_count": null,
   "metadata": {},
   "outputs": [],
   "source": [
    "pokemon = ['lugia', 'pikachu', 'charmander', 'bulbasaur', 'squirtle', 'hitmonlee']\n",
    "\n",
    "# dictionary of structure {name: object,}\n",
    "poke_dict = {}\n",
    "\n",
    "for name in pokemon:\n",
    "    new = Pokemon(name)\n",
    "    new.addMove()\n",
    "    new.poke_api_call()\n",
    "    poke_dict[name] = new\n",
    "    print(poke_dict[name])\n",
    "poke_dict"
   ]
  },
  {
   "cell_type": "markdown",
   "metadata": {},
   "source": [
    "### Where to go next? What to do with your Pokemon object? <br><br>\n",
    "## \"What to do now?\"<br>\n",
    "\n",
    "# Shopping cart style program?\n",
    "### User builds a team of pokemon\n",
    "    \n",
    "<p> we could turn our pokemon object that utilizes API calls into a shopping cart style program where we ask our user for input to choose pokemon to create </p> <br> <br>\n",
    "    \n",
    "# Check out what other endpoints the PokeAPI has to offer\n",
    "  I figured out that they have a region endpoint\n",
    " the region endpoint has a pokedex endpoint within it\n",
    " I can build a list of pokemon names from that pokedex endpoint\n",
    " I can use that list of pokemon names in my repeatable pokemon object creation and wind up with a massive list of pokemon\n",
    "<br><br>\n",
    "(note that the API will be a bit slower when you have hundreds of calls to make)\n",
    "        \n",
    "# Turn toward more user searching our pokemon lists - build functions for different types of search\n",
    " user can press 1 to search by name\n",
    " user can press 2 to search by type\n",
    " (have a function that loops through pokemon and figures out if they have the right type)"
   ]
  },
  {
   "cell_type": "code",
   "execution_count": 7,
   "metadata": {},
   "outputs": [
    {
     "name": "stdout",
     "output_type": "stream",
     "text": [
      "['pikachu', 'raichu', 'magnemite', 'magneton', 'voltorb', 'electrode', 'electabuzz', 'jolteon', 'zapdos']\n"
     ]
    }
   ],
   "source": [
    "import requests as r\n",
    "\n",
    "def poke_search():\n",
    "    while True:\n",
    "        search = input('Look up to see if a pokemon exists: ')    \n",
    "        req = r.get(f'https://pokeapi.co/api/v2/pokemon/{search}')\n",
    "        if req.status_code == 200:\n",
    "            data = req.json()\n",
    "            poke_type = [pokemon['type']['name'] for pokemon in data['types']]\n",
    "            print(f\"Pokemon name: {data['name']}\")\n",
    "            print(f\"Pokemon ID: {data['id']}\")\n",
    "            print(f\"Pokemon type(s): {poke_type}\")\n",
    "            continue\n",
    "        elif search == 'quit':\n",
    "            break\n",
    "        else:\n",
    "            print(f\"Ran into an issue {req.status_code}\")\n",
    "            continue\n",
    "                  \n",
    "def type_filter(pokemon_type):\n",
    "    type_list = []\n",
    "    for i in range(1, 152):\n",
    "        req = r.get(f\"https://pokeapi.co/api/v2/pokemon/{i}\")\n",
    "        pokemon_data = req.json()\n",
    "        types = [pokemon['type']['name'] for pokemon in pokemon_data['types']]\n",
    "        if pokemon_type in types:\n",
    "            type_list.append(pokemon_data['name'])\n",
    "    print(type_list)\n",
    "\n",
    "type_filter('electric')\n",
    "            \n",
    "\n",
    "\n"
   ]
  },
  {
   "cell_type": "code",
   "execution_count": null,
   "metadata": {},
   "outputs": [],
   "source": []
  }
 ],
 "metadata": {
  "kernelspec": {
   "display_name": "Python 3 (ipykernel)",
   "language": "python",
   "name": "python3"
  },
  "language_info": {
   "codemirror_mode": {
    "name": "ipython",
    "version": 3
   },
   "file_extension": ".py",
   "mimetype": "text/x-python",
   "name": "python",
   "nbconvert_exporter": "python",
   "pygments_lexer": "ipython3",
   "version": "3.9.7"
  }
 },
 "nbformat": 4,
 "nbformat_minor": 4
}
